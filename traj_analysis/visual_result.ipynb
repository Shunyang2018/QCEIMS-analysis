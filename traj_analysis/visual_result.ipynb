{
 "cells": [
  {
   "cell_type": "code",
   "execution_count": 1,
   "id": "medical-vacuum",
   "metadata": {},
   "outputs": [
    {
     "data": {
      "application/vnd.jupyter.widget-view+json": {
       "model_id": "b63288a403044c6f99fb3fa2c6968f26",
       "version_major": 2,
       "version_minor": 0
      },
      "text/plain": []
     },
     "metadata": {},
     "output_type": "display_data"
    }
   ],
   "source": [
    "from visualtool import molecule\n",
    "from ipywidgets import widgets, interactive, VBox"
   ]
  },
  {
   "cell_type": "code",
   "execution_count": 2,
   "id": "metallic-nursery",
   "metadata": {},
   "outputs": [
    {
     "data": {
      "application/vnd.jupyter.widget-view+json": {
       "model_id": "3860e13b5ec547d99a3f410369306c52",
       "version_major": 2,
       "version_minor": 0
      },
      "text/plain": [
       "VBox(children=(interactive(children=(Text(value='C8H18NO2Si', description='formula'), Text(value='/Volumes/Fil…"
      ]
     },
     "metadata": {},
     "output_type": "display_data"
    }
   ],
   "source": [
    "getmol = molecule()\n",
    "formula = interactive(getmol.io, formula='C8H18NO2Si',path = '/Volumes/File_Backup/backup/TMS/TMS-leucine/305')\n",
    "trj = interactive(getmol.choosetrj, trj='10')\n",
    "\n",
    "VBox([formula,trj])"
   ]
  },
  {
   "cell_type": "code",
   "execution_count": 5,
   "id": "understood-status",
   "metadata": {},
   "outputs": [
    {
     "name": "stdout",
     "output_type": "stream",
     "text": [
      "running comman: sed -i '' 's/SI/Si/g' /Volumes/File_Backup/backup/TMS/TMS-leucine/305/TMPQCEIMS/TMP.161/trj.161.1\n",
      "running comman: obabel -ixyz /Volumes/File_Backup/backup/TMS/TMS-leucine/305/TMPQCEIMS/TMP.161/trj.161.1 -opdb -O/Volumes/File_Backup/backup/TMS/TMS-leucine/305/TMPQCEIMS/TMP.161/trj.161.1.pdb\n",
      "running comman: sed -i '' 's/SI/Si/g' /Volumes/File_Backup/backup/TMS/TMS-leucine/305/TMPQCEIMS/TMP.161/trj.161.2\n",
      "running comman: obabel -ixyz /Volumes/File_Backup/backup/TMS/TMS-leucine/305/TMPQCEIMS/TMP.161/trj.161.2 -opdb -O/Volumes/File_Backup/backup/TMS/TMS-leucine/305/TMPQCEIMS/TMP.161/trj.161.2.pdb\n"
     ]
    },
    {
     "data": {
      "application/vnd.jupyter.widget-view+json": {
       "model_id": "758773112c8f41f0a58bcab73d9be08e",
       "version_major": 2,
       "version_minor": 0
      },
      "text/plain": [
       "VBox(children=(NGLWidget(max_frame=386), NGLWidget(max_frame=1999)))"
      ]
     },
     "metadata": {},
     "output_type": "display_data"
    }
   ],
   "source": [
    "getmol.viewtrj()\n",
    "VBox(getmol.view)"
   ]
  },
  {
   "cell_type": "code",
   "execution_count": 4,
   "id": "looking-modern",
   "metadata": {},
   "outputs": [
    {
     "name": "stdout",
     "output_type": "stream",
     "text": [
      "running comman: sed -i '' 's/SI/Si/g' /Volumes/File_Backup/backup/TMS/TMS-leucine/305/TMPQCEIMS/TMP.161/trj.161.2\n",
      "running comman: obabel -ixyz /Volumes/File_Backup/backup/TMS/TMS-leucine/305/TMPQCEIMS/TMP.161/trj.161.2 -opdb -O/Volumes/File_Backup/backup/TMS/TMS-leucine/305/TMPQCEIMS/TMP.161/trj.161.2.pdb\n",
      "running comman: sed -i '' 's/SI/Si/g' /Volumes/File_Backup/backup/TMS/TMS-leucine/305/TMPQCEIMS/TMP.161/trj.161.1\n",
      "running comman: obabel -ixyz /Volumes/File_Backup/backup/TMS/TMS-leucine/305/TMPQCEIMS/TMP.161/trj.161.1 -opdb -O/Volumes/File_Backup/backup/TMS/TMS-leucine/305/TMPQCEIMS/TMP.161/trj.161.1.pdb\n"
     ]
    },
    {
     "data": {
      "application/vnd.jupyter.widget-view+json": {
       "model_id": "4533e36d31014238b3d5e58d84942d6c",
       "version_major": 2,
       "version_minor": 0
      },
      "text/plain": [
       "VBox(children=(NGLWidget(max_frame=1999), NGLWidget(max_frame=386)))"
      ]
     },
     "metadata": {},
     "output_type": "display_data"
    }
   ],
   "source": [
    "trj = interactive(getmol.choosetrj, trj='738')\n",
    "getmol.viewtrj()\n",
    "VBox(getmol.view)"
   ]
  },
  {
   "cell_type": "code",
   "execution_count": null,
   "id": "patent-riding",
   "metadata": {},
   "outputs": [],
   "source": []
  },
  {
   "cell_type": "code",
   "execution_count": 13,
   "id": "promising-genetics",
   "metadata": {},
   "outputs": [
    {
     "name": "stdout",
     "output_type": "stream",
     "text": [
      "running comman: sed -i '' 's/SI/Si/g' /Volumes/File_Backup/backup/TMS/TMS-leucine/305/TMPQCEIMS/TMP.117/trj.117.2\n",
      "running comman: obabel -ixyz /Volumes/File_Backup/backup/TMS/TMS-leucine/305/TMPQCEIMS/TMP.117/trj.117.2 -opdb -O/Volumes/File_Backup/backup/TMS/TMS-leucine/305/TMPQCEIMS/TMP.117/trj.117.2.pdb\n",
      "running comman: sed -i '' 's/SI/Si/g' /Volumes/File_Backup/backup/TMS/TMS-leucine/305/TMPQCEIMS/TMP.117/trj.117.3\n",
      "running comman: obabel -ixyz /Volumes/File_Backup/backup/TMS/TMS-leucine/305/TMPQCEIMS/TMP.117/trj.117.3 -opdb -O/Volumes/File_Backup/backup/TMS/TMS-leucine/305/TMPQCEIMS/TMP.117/trj.117.3.pdb\n",
      "running comman: sed -i '' 's/SI/Si/g' /Volumes/File_Backup/backup/TMS/TMS-leucine/305/TMPQCEIMS/TMP.117/trj.117.1\n",
      "running comman: obabel -ixyz /Volumes/File_Backup/backup/TMS/TMS-leucine/305/TMPQCEIMS/TMP.117/trj.117.1 -opdb -O/Volumes/File_Backup/backup/TMS/TMS-leucine/305/TMPQCEIMS/TMP.117/trj.117.1.pdb\n"
     ]
    },
    {
     "data": {
      "application/vnd.jupyter.widget-view+json": {
       "model_id": "fb55870c1bb44391bcfc3351411bc1b7",
       "version_major": 2,
       "version_minor": 0
      },
      "text/plain": [
       "VBox(children=(NGLWidget(max_frame=299), NGLWidget(max_frame=1499), NGLWidget(max_frame=392)))"
      ]
     },
     "metadata": {},
     "output_type": "display_data"
    }
   ],
   "source": [
    "trj = interactive(getmol.choosetrj, trj='117')\n",
    "getmol.viewtrj()\n",
    "\n",
    "VBox(getmol.view)"
   ]
  },
  {
   "cell_type": "code",
   "execution_count": 15,
   "id": "suited-community",
   "metadata": {},
   "outputs": [
    {
     "name": "stdout",
     "output_type": "stream",
     "text": [
      "running comman: sed -i '' 's/SI/Si/g' /Volumes/File_Backup/backup/TMS/TMS-leucine/305/TMPQCEIMS/TMP.161/trj.161.2\n",
      "running comman: obabel -ixyz /Volumes/File_Backup/backup/TMS/TMS-leucine/305/TMPQCEIMS/TMP.161/trj.161.2 -opdb -O/Volumes/File_Backup/backup/TMS/TMS-leucine/305/TMPQCEIMS/TMP.161/trj.161.2.pdb\n",
      "running comman: sed -i '' 's/SI/Si/g' /Volumes/File_Backup/backup/TMS/TMS-leucine/305/TMPQCEIMS/TMP.161/trj.161.1\n",
      "running comman: obabel -ixyz /Volumes/File_Backup/backup/TMS/TMS-leucine/305/TMPQCEIMS/TMP.161/trj.161.1 -opdb -O/Volumes/File_Backup/backup/TMS/TMS-leucine/305/TMPQCEIMS/TMP.161/trj.161.1.pdb\n"
     ]
    },
    {
     "data": {
      "application/vnd.jupyter.widget-view+json": {
       "model_id": "bab3819b956240f9832886272d4db367",
       "version_major": 2,
       "version_minor": 0
      },
      "text/plain": [
       "VBox(children=(NGLWidget(max_frame=1999), NGLWidget(max_frame=386)))"
      ]
     },
     "metadata": {},
     "output_type": "display_data"
    }
   ],
   "source": [
    "#161\n",
    "getmol.viewtrj()\n",
    "\n",
    "VBox(getmol.view)"
   ]
  },
  {
   "cell_type": "code",
   "execution_count": 17,
   "id": "enabling-albania",
   "metadata": {},
   "outputs": [
    {
     "name": "stdout",
     "output_type": "stream",
     "text": [
      "running comman: sed -i '' 's/SI/Si/g' /Volumes/File_Backup/backup/TMS/TMS-leucine/305/TMPQCEIMS/TMP.200/trj.200.3\n",
      "running comman: obabel -ixyz /Volumes/File_Backup/backup/TMS/TMS-leucine/305/TMPQCEIMS/TMP.200/trj.200.3 -opdb -O/Volumes/File_Backup/backup/TMS/TMS-leucine/305/TMPQCEIMS/TMP.200/trj.200.3.pdb\n",
      "running comman: sed -i '' 's/SI/Si/g' /Volumes/File_Backup/backup/TMS/TMS-leucine/305/TMPQCEIMS/TMP.200/trj.200.2\n",
      "running comman: obabel -ixyz /Volumes/File_Backup/backup/TMS/TMS-leucine/305/TMPQCEIMS/TMP.200/trj.200.2 -opdb -O/Volumes/File_Backup/backup/TMS/TMS-leucine/305/TMPQCEIMS/TMP.200/trj.200.2.pdb\n",
      "running comman: sed -i '' 's/SI/Si/g' /Volumes/File_Backup/backup/TMS/TMS-leucine/305/TMPQCEIMS/TMP.200/trj.200.1\n",
      "running comman: obabel -ixyz /Volumes/File_Backup/backup/TMS/TMS-leucine/305/TMPQCEIMS/TMP.200/trj.200.1 -opdb -O/Volumes/File_Backup/backup/TMS/TMS-leucine/305/TMPQCEIMS/TMP.200/trj.200.1.pdb\n"
     ]
    },
    {
     "data": {
      "application/vnd.jupyter.widget-view+json": {
       "model_id": "d0b467dad7464cae9af243650824df98",
       "version_major": 2,
       "version_minor": 0
      },
      "text/plain": [
       "VBox(children=(NGLWidget(max_frame=1499), NGLWidget(max_frame=1999), NGLWidget(max_frame=345)))"
      ]
     },
     "metadata": {},
     "output_type": "display_data"
    }
   ],
   "source": [
    "#200\n",
    "getmol.viewtrj()\n",
    "\n",
    "VBox(getmol.view)"
   ]
  },
  {
   "cell_type": "code",
   "execution_count": 19,
   "id": "stretch-inclusion",
   "metadata": {},
   "outputs": [
    {
     "name": "stdout",
     "output_type": "stream",
     "text": [
      "running comman: sed -i '' 's/SI/Si/g' /Volumes/File_Backup/backup/TMS/TMS-leucine/305/TMPQCEIMS/TMP.318/trj.318.1\n",
      "running comman: obabel -ixyz /Volumes/File_Backup/backup/TMS/TMS-leucine/305/TMPQCEIMS/TMP.318/trj.318.1 -opdb -O/Volumes/File_Backup/backup/TMS/TMS-leucine/305/TMPQCEIMS/TMP.318/trj.318.1.pdb\n",
      "running comman: sed -i '' 's/SI/Si/g' /Volumes/File_Backup/backup/TMS/TMS-leucine/305/TMPQCEIMS/TMP.318/trj.318.2\n",
      "running comman: obabel -ixyz /Volumes/File_Backup/backup/TMS/TMS-leucine/305/TMPQCEIMS/TMP.318/trj.318.2 -opdb -O/Volumes/File_Backup/backup/TMS/TMS-leucine/305/TMPQCEIMS/TMP.318/trj.318.2.pdb\n"
     ]
    },
    {
     "data": {
      "application/vnd.jupyter.widget-view+json": {
       "model_id": "e7ce1f1aaa2c4c998c816706918c2105",
       "version_major": 2,
       "version_minor": 0
      },
      "text/plain": [
       "VBox(children=(NGLWidget(max_frame=428), NGLWidget(max_frame=1999)))"
      ]
     },
     "metadata": {},
     "output_type": "display_data"
    }
   ],
   "source": [
    "#318\n",
    "getmol.viewtrj()\n",
    "\n",
    "VBox(getmol.view)"
   ]
  },
  {
   "cell_type": "code",
   "execution_count": 20,
   "id": "latest-sherman",
   "metadata": {},
   "outputs": [
    {
     "name": "stdout",
     "output_type": "stream",
     "text": [
      "running comman: sed -i '' 's/SI/Si/g' /Volumes/File_Backup/backup/TMS/TMS-leucine/305/TMPQCEIMS/TMP.322/trj.322.2\n",
      "running comman: obabel -ixyz /Volumes/File_Backup/backup/TMS/TMS-leucine/305/TMPQCEIMS/TMP.322/trj.322.2 -opdb -O/Volumes/File_Backup/backup/TMS/TMS-leucine/305/TMPQCEIMS/TMP.322/trj.322.2.pdb\n",
      "running comman: sed -i '' 's/SI/Si/g' /Volumes/File_Backup/backup/TMS/TMS-leucine/305/TMPQCEIMS/TMP.322/trj.322.3\n",
      "running comman: obabel -ixyz /Volumes/File_Backup/backup/TMS/TMS-leucine/305/TMPQCEIMS/TMP.322/trj.322.3 -opdb -O/Volumes/File_Backup/backup/TMS/TMS-leucine/305/TMPQCEIMS/TMP.322/trj.322.3.pdb\n",
      "running comman: sed -i '' 's/SI/Si/g' /Volumes/File_Backup/backup/TMS/TMS-leucine/305/TMPQCEIMS/TMP.322/trj.322.1\n",
      "running comman: obabel -ixyz /Volumes/File_Backup/backup/TMS/TMS-leucine/305/TMPQCEIMS/TMP.322/trj.322.1 -opdb -O/Volumes/File_Backup/backup/TMS/TMS-leucine/305/TMPQCEIMS/TMP.322/trj.322.1.pdb\n"
     ]
    },
    {
     "data": {
      "application/vnd.jupyter.widget-view+json": {
       "model_id": "080931438fd8459384c6791396a20a04",
       "version_major": 2,
       "version_minor": 0
      },
      "text/plain": [
       "VBox(children=(NGLWidget(max_frame=1999), NGLWidget(max_frame=1499), NGLWidget(max_frame=345)))"
      ]
     },
     "metadata": {},
     "output_type": "display_data"
    }
   ],
   "source": [
    "#322\n",
    "getmol.viewtrj()\n",
    "\n",
    "VBox(getmol.view)"
   ]
  },
  {
   "cell_type": "code",
   "execution_count": 21,
   "id": "constitutional-duncan",
   "metadata": {},
   "outputs": [
    {
     "name": "stdout",
     "output_type": "stream",
     "text": [
      "running comman: sed -i '' 's/SI/Si/g' /Volumes/File_Backup/backup/TMS/TMS-leucine/305/TMPQCEIMS/TMP.326/trj.326.2\n",
      "running comman: obabel -ixyz /Volumes/File_Backup/backup/TMS/TMS-leucine/305/TMPQCEIMS/TMP.326/trj.326.2 -opdb -O/Volumes/File_Backup/backup/TMS/TMS-leucine/305/TMPQCEIMS/TMP.326/trj.326.2.pdb\n",
      "running comman: sed -i '' 's/SI/Si/g' /Volumes/File_Backup/backup/TMS/TMS-leucine/305/TMPQCEIMS/TMP.326/trj.326.1\n",
      "running comman: obabel -ixyz /Volumes/File_Backup/backup/TMS/TMS-leucine/305/TMPQCEIMS/TMP.326/trj.326.1 -opdb -O/Volumes/File_Backup/backup/TMS/TMS-leucine/305/TMPQCEIMS/TMP.326/trj.326.1.pdb\n"
     ]
    },
    {
     "data": {
      "application/vnd.jupyter.widget-view+json": {
       "model_id": "65ef3c0b5c9b4c15af004278b5da03df",
       "version_major": 2,
       "version_minor": 0
      },
      "text/plain": [
       "VBox(children=(NGLWidget(max_frame=1999), NGLWidget(max_frame=322)))"
      ]
     },
     "metadata": {},
     "output_type": "display_data"
    }
   ],
   "source": [
    "#326\n",
    "getmol.viewtrj()\n",
    "\n",
    "VBox(getmol.view)"
   ]
  },
  {
   "cell_type": "code",
   "execution_count": 24,
   "id": "needed-advocate",
   "metadata": {},
   "outputs": [
    {
     "name": "stdout",
     "output_type": "stream",
     "text": [
      "running comman: sed -i '' 's/SI/Si/g' /Volumes/File_Backup/backup/TMS/TMS-leucine/305/TMPQCEIMS/TMP.494/trj.494.2\n",
      "running comman: obabel -ixyz /Volumes/File_Backup/backup/TMS/TMS-leucine/305/TMPQCEIMS/TMP.494/trj.494.2 -opdb -O/Volumes/File_Backup/backup/TMS/TMS-leucine/305/TMPQCEIMS/TMP.494/trj.494.2.pdb\n",
      "running comman: sed -i '' 's/SI/Si/g' /Volumes/File_Backup/backup/TMS/TMS-leucine/305/TMPQCEIMS/TMP.494/trj.494.1\n",
      "running comman: obabel -ixyz /Volumes/File_Backup/backup/TMS/TMS-leucine/305/TMPQCEIMS/TMP.494/trj.494.1 -opdb -O/Volumes/File_Backup/backup/TMS/TMS-leucine/305/TMPQCEIMS/TMP.494/trj.494.1.pdb\n"
     ]
    },
    {
     "data": {
      "application/vnd.jupyter.widget-view+json": {
       "model_id": "5047237b778b4299b13e488cd35637a7",
       "version_major": 2,
       "version_minor": 0
      },
      "text/plain": [
       "VBox(children=(NGLWidget(max_frame=1999), NGLWidget(max_frame=371)))"
      ]
     },
     "metadata": {},
     "output_type": "display_data"
    }
   ],
   "source": [
    "#494\n",
    "getmol.viewtrj()\n",
    "\n",
    "VBox(getmol.view)"
   ]
  },
  {
   "cell_type": "code",
   "execution_count": 25,
   "id": "naughty-bangkok",
   "metadata": {},
   "outputs": [
    {
     "name": "stdout",
     "output_type": "stream",
     "text": [
      "running comman: sed -i '' 's/SI/Si/g' /Volumes/File_Backup/backup/TMS/TMS-leucine/305/TMPQCEIMS/TMP.366/trj.366.2\n",
      "running comman: obabel -ixyz /Volumes/File_Backup/backup/TMS/TMS-leucine/305/TMPQCEIMS/TMP.366/trj.366.2 -opdb -O/Volumes/File_Backup/backup/TMS/TMS-leucine/305/TMPQCEIMS/TMP.366/trj.366.2.pdb\n",
      "running comman: sed -i '' 's/SI/Si/g' /Volumes/File_Backup/backup/TMS/TMS-leucine/305/TMPQCEIMS/TMP.366/trj.366.1\n",
      "running comman: obabel -ixyz /Volumes/File_Backup/backup/TMS/TMS-leucine/305/TMPQCEIMS/TMP.366/trj.366.1 -opdb -O/Volumes/File_Backup/backup/TMS/TMS-leucine/305/TMPQCEIMS/TMP.366/trj.366.1.pdb\n"
     ]
    },
    {
     "data": {
      "application/vnd.jupyter.widget-view+json": {
       "model_id": "244632290d56467ebafa9d8015a1d92d",
       "version_major": 2,
       "version_minor": 0
      },
      "text/plain": [
       "VBox(children=(NGLWidget(max_frame=1999), NGLWidget(max_frame=345)))"
      ]
     },
     "metadata": {},
     "output_type": "display_data"
    }
   ],
   "source": [
    "#366\n",
    "getmol.viewtrj()\n",
    "\n",
    "VBox(getmol.view)"
   ]
  },
  {
   "cell_type": "code",
   "execution_count": 40,
   "id": "opponent-melbourne",
   "metadata": {},
   "outputs": [
    {
     "name": "stdout",
     "output_type": "stream",
     "text": [
      "running comman: sed -i '' 's/SI/Si/g' /Volumes/File_Backup/backup/TMS/TMS-leucine/305/TMPQCEIMS/TMP.499/trj.499.2\n",
      "running comman: obabel -ixyz /Volumes/File_Backup/backup/TMS/TMS-leucine/305/TMPQCEIMS/TMP.499/trj.499.2 -opdb -O/Volumes/File_Backup/backup/TMS/TMS-leucine/305/TMPQCEIMS/TMP.499/trj.499.2.pdb\n",
      "running comman: sed -i '' 's/SI/Si/g' /Volumes/File_Backup/backup/TMS/TMS-leucine/305/TMPQCEIMS/TMP.499/trj.499.1\n",
      "running comman: obabel -ixyz /Volumes/File_Backup/backup/TMS/TMS-leucine/305/TMPQCEIMS/TMP.499/trj.499.1 -opdb -O/Volumes/File_Backup/backup/TMS/TMS-leucine/305/TMPQCEIMS/TMP.499/trj.499.1.pdb\n"
     ]
    },
    {
     "data": {
      "application/vnd.jupyter.widget-view+json": {
       "model_id": "c476f1200de6475b924da7c9b77d377d",
       "version_major": 2,
       "version_minor": 0
      },
      "text/plain": [
       "VBox(children=(NGLWidget(max_frame=833), NGLWidget(max_frame=410)))"
      ]
     },
     "metadata": {},
     "output_type": "display_data"
    }
   ],
   "source": [
    "#499\n",
    "getmol.viewtrj()\n",
    "\n",
    "VBox(getmol.view)"
   ]
  },
  {
   "cell_type": "code",
   "execution_count": 30,
   "id": "recreational-soccer",
   "metadata": {},
   "outputs": [
    {
     "name": "stdout",
     "output_type": "stream",
     "text": [
      "running comman: sed -i '' 's/SI/Si/g' /Volumes/File_Backup/backup/TMS/TMS-leucine/305/TMPQCEIMS/TMP.127/trj.127.2\n",
      "running comman: obabel -ixyz /Volumes/File_Backup/backup/TMS/TMS-leucine/305/TMPQCEIMS/TMP.127/trj.127.2 -opdb -O/Volumes/File_Backup/backup/TMS/TMS-leucine/305/TMPQCEIMS/TMP.127/trj.127.2.pdb\n",
      "running comman: sed -i '' 's/SI/Si/g' /Volumes/File_Backup/backup/TMS/TMS-leucine/305/TMPQCEIMS/TMP.127/trj.127.1\n",
      "running comman: obabel -ixyz /Volumes/File_Backup/backup/TMS/TMS-leucine/305/TMPQCEIMS/TMP.127/trj.127.1 -opdb -O/Volumes/File_Backup/backup/TMS/TMS-leucine/305/TMPQCEIMS/TMP.127/trj.127.1.pdb\n"
     ]
    },
    {
     "data": {
      "application/vnd.jupyter.widget-view+json": {
       "model_id": "72eb832c7eec4b5fb2d7c450ec151638",
       "version_major": 2,
       "version_minor": 0
      },
      "text/plain": [
       "VBox(children=(NGLWidget(max_frame=833), NGLWidget(max_frame=507)))"
      ]
     },
     "metadata": {},
     "output_type": "display_data"
    }
   ],
   "source": [
    "#127\n",
    "getmol.viewtrj()\n",
    "\n",
    "VBox(getmol.view)"
   ]
  },
  {
   "cell_type": "code",
   "execution_count": 32,
   "id": "express-hardware",
   "metadata": {},
   "outputs": [
    {
     "name": "stdout",
     "output_type": "stream",
     "text": [
      "running comman: sed -i '' 's/SI/Si/g' /Volumes/File_Backup/backup/TMS/TMS-leucine/305/TMPQCEIMS/TMP.157/trj.157.2\n",
      "running comman: obabel -ixyz /Volumes/File_Backup/backup/TMS/TMS-leucine/305/TMPQCEIMS/TMP.157/trj.157.2 -opdb -O/Volumes/File_Backup/backup/TMS/TMS-leucine/305/TMPQCEIMS/TMP.157/trj.157.2.pdb\n",
      "running comman: sed -i '' 's/SI/Si/g' /Volumes/File_Backup/backup/TMS/TMS-leucine/305/TMPQCEIMS/TMP.157/trj.157.1\n",
      "running comman: obabel -ixyz /Volumes/File_Backup/backup/TMS/TMS-leucine/305/TMPQCEIMS/TMP.157/trj.157.1 -opdb -O/Volumes/File_Backup/backup/TMS/TMS-leucine/305/TMPQCEIMS/TMP.157/trj.157.1.pdb\n"
     ]
    },
    {
     "data": {
      "application/vnd.jupyter.widget-view+json": {
       "model_id": "d53c620e23fb41dab1890ed782cb00cc",
       "version_major": 2,
       "version_minor": 0
      },
      "text/plain": [
       "VBox(children=(NGLWidget(max_frame=833), NGLWidget(max_frame=495)))"
      ]
     },
     "metadata": {},
     "output_type": "display_data"
    }
   ],
   "source": [
    "#157\n",
    "getmol.viewtrj()\n",
    "\n",
    "VBox(getmol.view)"
   ]
  },
  {
   "cell_type": "code",
   "execution_count": 34,
   "id": "dedicated-trustee",
   "metadata": {},
   "outputs": [
    {
     "name": "stdout",
     "output_type": "stream",
     "text": [
      "running comman: sed -i '' 's/SI/Si/g' /Volumes/File_Backup/backup/TMS/TMS-leucine/305/TMPQCEIMS/TMP.186/trj.186.1\n",
      "running comman: obabel -ixyz /Volumes/File_Backup/backup/TMS/TMS-leucine/305/TMPQCEIMS/TMP.186/trj.186.1 -opdb -O/Volumes/File_Backup/backup/TMS/TMS-leucine/305/TMPQCEIMS/TMP.186/trj.186.1.pdb\n",
      "running comman: sed -i '' 's/SI/Si/g' /Volumes/File_Backup/backup/TMS/TMS-leucine/305/TMPQCEIMS/TMP.186/trj.186.2\n",
      "running comman: obabel -ixyz /Volumes/File_Backup/backup/TMS/TMS-leucine/305/TMPQCEIMS/TMP.186/trj.186.2 -opdb -O/Volumes/File_Backup/backup/TMS/TMS-leucine/305/TMPQCEIMS/TMP.186/trj.186.2.pdb\n"
     ]
    },
    {
     "data": {
      "application/vnd.jupyter.widget-view+json": {
       "model_id": "152f152012a242a486486ab521422350",
       "version_major": 2,
       "version_minor": 0
      },
      "text/plain": [
       "VBox(children=(NGLWidget(max_frame=503), NGLWidget(max_frame=833)))"
      ]
     },
     "metadata": {},
     "output_type": "display_data"
    }
   ],
   "source": [
    "#186\n",
    "getmol.viewtrj()\n",
    "\n",
    "VBox(getmol.view)"
   ]
  },
  {
   "cell_type": "code",
   "execution_count": 36,
   "id": "bright-layer",
   "metadata": {},
   "outputs": [
    {
     "name": "stdout",
     "output_type": "stream",
     "text": [
      "running comman: sed -i '' 's/SI/Si/g' /Volumes/File_Backup/backup/TMS/TMS-leucine/305/TMPQCEIMS/TMP.190/trj.190.1\n",
      "running comman: obabel -ixyz /Volumes/File_Backup/backup/TMS/TMS-leucine/305/TMPQCEIMS/TMP.190/trj.190.1 -opdb -O/Volumes/File_Backup/backup/TMS/TMS-leucine/305/TMPQCEIMS/TMP.190/trj.190.1.pdb\n",
      "running comman: sed -i '' 's/SI/Si/g' /Volumes/File_Backup/backup/TMS/TMS-leucine/305/TMPQCEIMS/TMP.190/trj.190.2\n",
      "running comman: obabel -ixyz /Volumes/File_Backup/backup/TMS/TMS-leucine/305/TMPQCEIMS/TMP.190/trj.190.2 -opdb -O/Volumes/File_Backup/backup/TMS/TMS-leucine/305/TMPQCEIMS/TMP.190/trj.190.2.pdb\n"
     ]
    },
    {
     "data": {
      "application/vnd.jupyter.widget-view+json": {
       "model_id": "965275df963c401fb205ecd50ac7519d",
       "version_major": 2,
       "version_minor": 0
      },
      "text/plain": [
       "VBox(children=(NGLWidget(max_frame=489), NGLWidget(max_frame=833)))"
      ]
     },
     "metadata": {},
     "output_type": "display_data"
    }
   ],
   "source": [
    "#190\n",
    "getmol.viewtrj()\n",
    "\n",
    "VBox(getmol.view)"
   ]
  },
  {
   "cell_type": "code",
   "execution_count": 37,
   "id": "toxic-right",
   "metadata": {},
   "outputs": [
    {
     "name": "stdout",
     "output_type": "stream",
     "text": [
      "running comman: sed -i '' 's/SI/Si/g' /Volumes/File_Backup/backup/TMS/TMS-leucine/305/TMPQCEIMS/TMP.539/trj.539.1\n",
      "running comman: obabel -ixyz /Volumes/File_Backup/backup/TMS/TMS-leucine/305/TMPQCEIMS/TMP.539/trj.539.1 -opdb -O/Volumes/File_Backup/backup/TMS/TMS-leucine/305/TMPQCEIMS/TMP.539/trj.539.1.pdb\n",
      "running comman: sed -i '' 's/SI/Si/g' /Volumes/File_Backup/backup/TMS/TMS-leucine/305/TMPQCEIMS/TMP.539/trj.539.3\n",
      "running comman: obabel -ixyz /Volumes/File_Backup/backup/TMS/TMS-leucine/305/TMPQCEIMS/TMP.539/trj.539.3 -opdb -O/Volumes/File_Backup/backup/TMS/TMS-leucine/305/TMPQCEIMS/TMP.539/trj.539.3.pdb\n",
      "running comman: sed -i '' 's/SI/Si/g' /Volumes/File_Backup/backup/TMS/TMS-leucine/305/TMPQCEIMS/TMP.539/trj.539.2\n",
      "running comman: obabel -ixyz /Volumes/File_Backup/backup/TMS/TMS-leucine/305/TMPQCEIMS/TMP.539/trj.539.2 -opdb -O/Volumes/File_Backup/backup/TMS/TMS-leucine/305/TMPQCEIMS/TMP.539/trj.539.2.pdb\n"
     ]
    },
    {
     "data": {
      "application/vnd.jupyter.widget-view+json": {
       "model_id": "2d33fef008d9414e922fc908173abd05",
       "version_major": 2,
       "version_minor": 0
      },
      "text/plain": [
       "VBox(children=(NGLWidget(max_frame=497), NGLWidget(max_frame=1249), NGLWidget(max_frame=322)))"
      ]
     },
     "metadata": {},
     "output_type": "display_data"
    }
   ],
   "source": [
    "#539\n",
    "getmol.viewtrj()\n",
    "\n",
    "VBox(getmol.view)"
   ]
  },
  {
   "cell_type": "code",
   "execution_count": 39,
   "id": "white-union",
   "metadata": {},
   "outputs": [
    {
     "name": "stdout",
     "output_type": "stream",
     "text": [
      "running comman: sed -i '' 's/SI/Si/g' /Volumes/File_Backup/backup/TMS/TMS-leucine/305/TMPQCEIMS/TMP.835/trj.835.1\n",
      "running comman: obabel -ixyz /Volumes/File_Backup/backup/TMS/TMS-leucine/305/TMPQCEIMS/TMP.835/trj.835.1 -opdb -O/Volumes/File_Backup/backup/TMS/TMS-leucine/305/TMPQCEIMS/TMP.835/trj.835.1.pdb\n",
      "running comman: sed -i '' 's/SI/Si/g' /Volumes/File_Backup/backup/TMS/TMS-leucine/305/TMPQCEIMS/TMP.835/trj.835.2\n",
      "running comman: obabel -ixyz /Volumes/File_Backup/backup/TMS/TMS-leucine/305/TMPQCEIMS/TMP.835/trj.835.2 -opdb -O/Volumes/File_Backup/backup/TMS/TMS-leucine/305/TMPQCEIMS/TMP.835/trj.835.2.pdb\n"
     ]
    },
    {
     "data": {
      "application/vnd.jupyter.widget-view+json": {
       "model_id": "513bf267230f4a588da03f54709f5ba1",
       "version_major": 2,
       "version_minor": 0
      },
      "text/plain": [
       "VBox(children=(NGLWidget(max_frame=1807), NGLWidget(max_frame=833)))"
      ]
     },
     "metadata": {},
     "output_type": "display_data"
    }
   ],
   "source": [
    "#835\n",
    "getmol.viewtrj()\n",
    "\n",
    "VBox(getmol.view)"
   ]
  },
  {
   "cell_type": "code",
   "execution_count": null,
   "id": "manual-tokyo",
   "metadata": {},
   "outputs": [],
   "source": []
  }
 ],
 "metadata": {
  "kernelspec": {
   "display_name": "Python 3",
   "language": "python",
   "name": "python3"
  },
  "language_info": {
   "codemirror_mode": {
    "name": "ipython",
    "version": 3
   },
   "file_extension": ".py",
   "mimetype": "text/x-python",
   "name": "python",
   "nbconvert_exporter": "python",
   "pygments_lexer": "ipython3",
   "version": "3.7.9"
  }
 },
 "nbformat": 4,
 "nbformat_minor": 5
}
