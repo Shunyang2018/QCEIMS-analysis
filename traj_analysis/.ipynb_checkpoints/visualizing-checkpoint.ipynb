{
 "cells": [
  {
   "cell_type": "code",
   "execution_count": 1,
   "id": "ranging-chase",
   "metadata": {},
   "outputs": [
    {
     "data": {
      "application/vnd.jupyter.widget-view+json": {
       "model_id": "077b564971d64fbeb9acbcbb439e3595",
       "version_major": 2,
       "version_minor": 0
      },
      "text/plain": []
     },
     "metadata": {},
     "output_type": "display_data"
    }
   ],
   "source": [
    "# use pytraj for reading coordinates from rst7 file\n",
    "import pytraj as pt\n",
    "\n",
    "# use nglview for visualizing this notebook\n",
    "import nglview as nv\n",
    "from time import time, sleep\n",
    "from ipywidgets import widgets, interactive, VBox\n",
    "from IPython.display import display\n",
    "import os\n",
    "from visualtool import molecule\n",
    "\n",
    "\n",
    "\n"
   ]
  },
  {
   "cell_type": "code",
   "execution_count": 4,
   "id": "extreme-aaron",
   "metadata": {},
   "outputs": [
    {
     "data": {
      "application/vnd.jupyter.widget-view+json": {
       "model_id": "34b4270acc3049c78afc1a22f10dce58",
       "version_major": 2,
       "version_minor": 0
      },
      "text/plain": [
       "NGLWidget(max_frame=557)"
      ]
     },
     "metadata": {},
     "output_type": "display_data"
    }
   ],
   "source": [
    "traj = pt.load('/Users/shunyang/project/TMS/Code/traj_analysis/trj.pdb')\n",
    "view = nv.show_pytraj(traj)\n",
    "\n",
    "\n",
    "view = nv.NGLWidget()\n",
    "view.add_trajectory(traj)\n",
    "view"
   ]
  },
  {
   "cell_type": "code",
   "execution_count": 2,
   "id": "tight-cuisine",
   "metadata": {
    "scrolled": true
   },
   "outputs": [
    {
     "data": {
      "application/vnd.jupyter.widget-view+json": {
       "model_id": "bb5457ff04b64405a69c251a20acec8b",
       "version_major": 2,
       "version_minor": 0
      },
      "text/plain": [
       "VBox(children=(interactive(children=(Text(value='C8H18NO2Si', description='formula'), Text(value='/Volumes/Fil…"
      ]
     },
     "metadata": {},
     "output_type": "display_data"
    }
   ],
   "source": [
    "getmol = molecule()\n",
    "formula = interactive(getmol.io, formula='C8H18NO2Si',mass='146',\n",
    "                      path = '/Volumes/File_Backup/backup/TMS/TMS-leucine/305')\n",
    "trj = interactive(getmol.choosetrj, trj='10')\n",
    "\n",
    "VBox([formula,trj])"
   ]
  },
  {
   "cell_type": "code",
   "execution_count": 5,
   "id": "blond-rover",
   "metadata": {},
   "outputs": [],
   "source": [
    "\n",
    "iee, tadd = getmol.get_IEE()\n",
    "import pandas as pd \n",
    "df = pd.DataFrame({'iee':iee, 'tadd':tadd})\n",
    "df.to_csv('iee_tadd_114.csv')"
   ]
  },
  {
   "cell_type": "code",
   "execution_count": 6,
   "id": "static-juice",
   "metadata": {},
   "outputs": [
    {
     "name": "stdout",
     "output_type": "stream",
     "text": [
      "48 trajecoties are found\n",
      "intensity  trj  frag0  frag1\n"
     ]
    },
    {
     "data": {
      "text/html": [
       "<div>\n",
       "<style scoped>\n",
       "    .dataframe tbody tr th:only-of-type {\n",
       "        vertical-align: middle;\n",
       "    }\n",
       "\n",
       "    .dataframe tbody tr th {\n",
       "        vertical-align: top;\n",
       "    }\n",
       "\n",
       "    .dataframe thead th {\n",
       "        text-align: right;\n",
       "    }\n",
       "</style>\n",
       "<table border=\"1\" class=\"dataframe\">\n",
       "  <thead>\n",
       "    <tr style=\"text-align: right;\">\n",
       "      <th></th>\n",
       "      <th>iee</th>\n",
       "      <th>tadd</th>\n",
       "    </tr>\n",
       "  </thead>\n",
       "  <tbody>\n",
       "    <tr>\n",
       "      <th>0</th>\n",
       "      <td>0.10708072113875D+01</td>\n",
       "      <td>0.62351907399983D+05</td>\n",
       "    </tr>\n",
       "    <tr>\n",
       "      <th>1</th>\n",
       "      <td>0.32202269925022D+00</td>\n",
       "      <td>0.30627169936008D+05</td>\n",
       "    </tr>\n",
       "    <tr>\n",
       "      <th>2</th>\n",
       "      <td>0.65797306123841D+00</td>\n",
       "      <td>0.28506957911481D+05</td>\n",
       "    </tr>\n",
       "    <tr>\n",
       "      <th>3</th>\n",
       "      <td>0.11404151627164D+01</td>\n",
       "      <td>0.82137734132993D+05</td>\n",
       "    </tr>\n",
       "    <tr>\n",
       "      <th>4</th>\n",
       "      <td>0.10412611565902D+01</td>\n",
       "      <td>0.71593567176713D+05</td>\n",
       "    </tr>\n",
       "    <tr>\n",
       "      <th>5</th>\n",
       "      <td>0.74056750882285D+00</td>\n",
       "      <td>0.40013428392088D+05</td>\n",
       "    </tr>\n",
       "    <tr>\n",
       "      <th>6</th>\n",
       "      <td>0.23073872732771D+00</td>\n",
       "      <td>0.14269068761890D+05</td>\n",
       "    </tr>\n",
       "    <tr>\n",
       "      <th>7</th>\n",
       "      <td>0.68298681471521D+00</td>\n",
       "      <td>0.39709184311422D+05</td>\n",
       "    </tr>\n",
       "    <tr>\n",
       "      <th>8</th>\n",
       "      <td>0.76823639944513D+00</td>\n",
       "      <td>0.36429125961288D+05</td>\n",
       "    </tr>\n",
       "    <tr>\n",
       "      <th>9</th>\n",
       "      <td>0.27737079130293D+00</td>\n",
       "      <td>0.36356520315500D+05</td>\n",
       "    </tr>\n",
       "    <tr>\n",
       "      <th>10</th>\n",
       "      <td>0.31266233233543D+00</td>\n",
       "      <td>0.32813680371221D+05</td>\n",
       "    </tr>\n",
       "    <tr>\n",
       "      <th>11</th>\n",
       "      <td>0.89194863988081D+00</td>\n",
       "      <td>0.60810696856815D+05</td>\n",
       "    </tr>\n",
       "    <tr>\n",
       "      <th>12</th>\n",
       "      <td>0.35588013832859D+00</td>\n",
       "      <td>0.98316908257919D+04</td>\n",
       "    </tr>\n",
       "    <tr>\n",
       "      <th>13</th>\n",
       "      <td>0.33558827664824D+00</td>\n",
       "      <td>0.36356520315500D+05</td>\n",
       "    </tr>\n",
       "    <tr>\n",
       "      <th>14</th>\n",
       "      <td>0.16680778114562D+01</td>\n",
       "      <td>0.89775501710914D+05</td>\n",
       "    </tr>\n",
       "    <tr>\n",
       "      <th>15</th>\n",
       "      <td>0.11049559873156D+01</td>\n",
       "      <td>0.70287891438827D+05</td>\n",
       "    </tr>\n",
       "    <tr>\n",
       "      <th>16</th>\n",
       "      <td>0.66934398802786D+00</td>\n",
       "      <td>0.32920980101658D+05</td>\n",
       "    </tr>\n",
       "    <tr>\n",
       "      <th>17</th>\n",
       "      <td>0.24419682353582D+00</td>\n",
       "      <td>0.30627169936008D+05</td>\n",
       "    </tr>\n",
       "    <tr>\n",
       "      <th>18</th>\n",
       "      <td>0.23513925625624D+00</td>\n",
       "      <td>0.30627169936008D+05</td>\n",
       "    </tr>\n",
       "    <tr>\n",
       "      <th>19</th>\n",
       "      <td>0.87478345316343D+00</td>\n",
       "      <td>0.55236171691901D+05</td>\n",
       "    </tr>\n",
       "    <tr>\n",
       "      <th>20</th>\n",
       "      <td>0.96467702705709D+00</td>\n",
       "      <td>0.77992690264901D+05</td>\n",
       "    </tr>\n",
       "    <tr>\n",
       "      <th>21</th>\n",
       "      <td>0.88020382176573D+00</td>\n",
       "      <td>0.56409032609084D+05</td>\n",
       "    </tr>\n",
       "    <tr>\n",
       "      <th>22</th>\n",
       "      <td>0.25819118196646D+00</td>\n",
       "      <td>0.36356520315500D+05</td>\n",
       "    </tr>\n",
       "    <tr>\n",
       "      <th>23</th>\n",
       "      <td>0.77578561245287D+00</td>\n",
       "      <td>0.50504620917470D+05</td>\n",
       "    </tr>\n",
       "    <tr>\n",
       "      <th>24</th>\n",
       "      <td>0.86398608693332D+00</td>\n",
       "      <td>0.54967394077245D+05</td>\n",
       "    </tr>\n",
       "    <tr>\n",
       "      <th>25</th>\n",
       "      <td>0.66937563470396D+00</td>\n",
       "      <td>0.24486441011609D+05</td>\n",
       "    </tr>\n",
       "    <tr>\n",
       "      <th>26</th>\n",
       "      <td>0.72127396212474D+00</td>\n",
       "      <td>0.41082442363742D+05</td>\n",
       "    </tr>\n",
       "    <tr>\n",
       "      <th>27</th>\n",
       "      <td>0.69338505449281D+00</td>\n",
       "      <td>0.32942340829244D+05</td>\n",
       "    </tr>\n",
       "    <tr>\n",
       "      <th>28</th>\n",
       "      <td>0.71614055805102D+00</td>\n",
       "      <td>0.39709184311422D+05</td>\n",
       "    </tr>\n",
       "    <tr>\n",
       "      <th>29</th>\n",
       "      <td>0.44323660541772D+00</td>\n",
       "      <td>0.47198244015942D+05</td>\n",
       "    </tr>\n",
       "    <tr>\n",
       "      <th>30</th>\n",
       "      <td>0.21414959826583D+00</td>\n",
       "      <td>0.24395323160771D+05</td>\n",
       "    </tr>\n",
       "    <tr>\n",
       "      <th>31</th>\n",
       "      <td>0.27116305887778D+00</td>\n",
       "      <td>0.30627169936008D+05</td>\n",
       "    </tr>\n",
       "    <tr>\n",
       "      <th>32</th>\n",
       "      <td>0.86104743239679D+00</td>\n",
       "      <td>0.66983690251509D+05</td>\n",
       "    </tr>\n",
       "    <tr>\n",
       "      <th>33</th>\n",
       "      <td>0.95789007896911D+00</td>\n",
       "      <td>0.69170200686721D+05</td>\n",
       "    </tr>\n",
       "    <tr>\n",
       "      <th>34</th>\n",
       "      <td>0.28794897437210D+00</td>\n",
       "      <td>0.82682746673123D+04</td>\n",
       "    </tr>\n",
       "    <tr>\n",
       "      <th>35</th>\n",
       "      <td>0.24078168581865D+00</td>\n",
       "      <td>0.31724737463975D+05</td>\n",
       "    </tr>\n",
       "    <tr>\n",
       "      <th>36</th>\n",
       "      <td>0.36849455184599D+00</td>\n",
       "      <td>0.14269068761890D+05</td>\n",
       "    </tr>\n",
       "    <tr>\n",
       "      <th>37</th>\n",
       "      <td>0.33552437529651D+00</td>\n",
       "      <td>0.36356520315500D+05</td>\n",
       "    </tr>\n",
       "    <tr>\n",
       "      <th>38</th>\n",
       "      <td>0.84086100184690D+00</td>\n",
       "      <td>0.48187136611505D+05</td>\n",
       "    </tr>\n",
       "    <tr>\n",
       "      <th>39</th>\n",
       "      <td>0.39514605848788D+00</td>\n",
       "      <td>0.22111057216141D+05</td>\n",
       "    </tr>\n",
       "    <tr>\n",
       "      <th>40</th>\n",
       "      <td>0.28695377827197D+00</td>\n",
       "      <td>0.82682746673123D+04</td>\n",
       "    </tr>\n",
       "    <tr>\n",
       "      <th>41</th>\n",
       "      <td>0.30749802654411D+00</td>\n",
       "      <td>0.30627169936008D+05</td>\n",
       "    </tr>\n",
       "    <tr>\n",
       "      <th>42</th>\n",
       "      <td>0.29594536449760D+00</td>\n",
       "      <td>0.36356520315500D+05</td>\n",
       "    </tr>\n",
       "    <tr>\n",
       "      <th>43</th>\n",
       "      <td>0.24086437147861D+00</td>\n",
       "      <td>0.31724737463975D+05</td>\n",
       "    </tr>\n",
       "    <tr>\n",
       "      <th>44</th>\n",
       "      <td>0.18745726020499D+00</td>\n",
       "      <td>0.19750159597730D+05</td>\n",
       "    </tr>\n",
       "    <tr>\n",
       "      <th>45</th>\n",
       "      <td>0.80871946335699D+00</td>\n",
       "      <td>0.51729976555785D+05</td>\n",
       "    </tr>\n",
       "    <tr>\n",
       "      <th>46</th>\n",
       "      <td>0.32597223746972D+00</td>\n",
       "      <td>0.29547993983270D+05</td>\n",
       "    </tr>\n",
       "    <tr>\n",
       "      <th>47</th>\n",
       "      <td>0.45409530072671D+00</td>\n",
       "      <td>0.45781213817493D+05</td>\n",
       "    </tr>\n",
       "  </tbody>\n",
       "</table>\n",
       "</div>"
      ],
      "text/plain": [
       "                     iee                  tadd\n",
       "0   0.10708072113875D+01  0.62351907399983D+05\n",
       "1   0.32202269925022D+00  0.30627169936008D+05\n",
       "2   0.65797306123841D+00  0.28506957911481D+05\n",
       "3   0.11404151627164D+01  0.82137734132993D+05\n",
       "4   0.10412611565902D+01  0.71593567176713D+05\n",
       "5   0.74056750882285D+00  0.40013428392088D+05\n",
       "6   0.23073872732771D+00  0.14269068761890D+05\n",
       "7   0.68298681471521D+00  0.39709184311422D+05\n",
       "8   0.76823639944513D+00  0.36429125961288D+05\n",
       "9   0.27737079130293D+00  0.36356520315500D+05\n",
       "10  0.31266233233543D+00  0.32813680371221D+05\n",
       "11  0.89194863988081D+00  0.60810696856815D+05\n",
       "12  0.35588013832859D+00  0.98316908257919D+04\n",
       "13  0.33558827664824D+00  0.36356520315500D+05\n",
       "14  0.16680778114562D+01  0.89775501710914D+05\n",
       "15  0.11049559873156D+01  0.70287891438827D+05\n",
       "16  0.66934398802786D+00  0.32920980101658D+05\n",
       "17  0.24419682353582D+00  0.30627169936008D+05\n",
       "18  0.23513925625624D+00  0.30627169936008D+05\n",
       "19  0.87478345316343D+00  0.55236171691901D+05\n",
       "20  0.96467702705709D+00  0.77992690264901D+05\n",
       "21  0.88020382176573D+00  0.56409032609084D+05\n",
       "22  0.25819118196646D+00  0.36356520315500D+05\n",
       "23  0.77578561245287D+00  0.50504620917470D+05\n",
       "24  0.86398608693332D+00  0.54967394077245D+05\n",
       "25  0.66937563470396D+00  0.24486441011609D+05\n",
       "26  0.72127396212474D+00  0.41082442363742D+05\n",
       "27  0.69338505449281D+00  0.32942340829244D+05\n",
       "28  0.71614055805102D+00  0.39709184311422D+05\n",
       "29  0.44323660541772D+00  0.47198244015942D+05\n",
       "30  0.21414959826583D+00  0.24395323160771D+05\n",
       "31  0.27116305887778D+00  0.30627169936008D+05\n",
       "32  0.86104743239679D+00  0.66983690251509D+05\n",
       "33  0.95789007896911D+00  0.69170200686721D+05\n",
       "34  0.28794897437210D+00  0.82682746673123D+04\n",
       "35  0.24078168581865D+00  0.31724737463975D+05\n",
       "36  0.36849455184599D+00  0.14269068761890D+05\n",
       "37  0.33552437529651D+00  0.36356520315500D+05\n",
       "38  0.84086100184690D+00  0.48187136611505D+05\n",
       "39  0.39514605848788D+00  0.22111057216141D+05\n",
       "40  0.28695377827197D+00  0.82682746673123D+04\n",
       "41  0.30749802654411D+00  0.30627169936008D+05\n",
       "42  0.29594536449760D+00  0.36356520315500D+05\n",
       "43  0.24086437147861D+00  0.31724737463975D+05\n",
       "44  0.18745726020499D+00  0.19750159597730D+05\n",
       "45  0.80871946335699D+00  0.51729976555785D+05\n",
       "46  0.32597223746972D+00  0.29547993983270D+05\n",
       "47  0.45409530072671D+00  0.45781213817493D+05"
      ]
     },
     "execution_count": 6,
     "metadata": {},
     "output_type": "execute_result"
    }
   ],
   "source": [
    "getmol.search()\n",
    "df"
   ]
  },
  {
   "cell_type": "code",
   "execution_count": 9,
   "id": "modular-canvas",
   "metadata": {},
   "outputs": [
    {
     "data": {
      "text/plain": [
       "[]"
      ]
     },
     "execution_count": 9,
     "metadata": {},
     "output_type": "execute_result"
    }
   ],
   "source": [
    "getmol.formula"
   ]
  },
  {
   "cell_type": "code",
   "execution_count": 51,
   "id": "peaceful-vegetarian",
   "metadata": {
    "scrolled": true
   },
   "outputs": [
    {
     "data": {
      "application/vnd.jupyter.widget-view+json": {
       "model_id": "d6ae3c973ea24f2fb607dbcb56de4219",
       "version_major": 2,
       "version_minor": 0
      },
      "text/plain": [
       "VBox(children=(interactive(children=(Text(value='10', description='trj'), Output()), _dom_classes=('widget-int…"
      ]
     },
     "metadata": {},
     "output_type": "display_data"
    }
   ],
   "source": [
    "trj = interactive(getmol.choosetrj, trj='10')\n",
    "\n",
    "VBox([trj])"
   ]
  },
  {
   "cell_type": "code",
   "execution_count": 54,
   "id": "arctic-floor",
   "metadata": {},
   "outputs": [
    {
     "name": "stdout",
     "output_type": "stream",
     "text": [
      "running comman: sed -i '' 's/SI/Si/g' /Volumes/File_Backup/backup/TMS/TMS-leucine/305/TMPQCEIMS/TMP.10/trj.10.1\n",
      "running comman: obabel -ixyz /Volumes/File_Backup/backup/TMS/TMS-leucine/305/TMPQCEIMS/TMP.10/trj.10.1 -opdb -O/Volumes/File_Backup/backup/TMS/TMS-leucine/305/TMPQCEIMS/TMP.10/trj.10.1.pdb\n",
      "running comman: sed -i '' 's/SI/Si/g' /Volumes/File_Backup/backup/TMS/TMS-leucine/305/TMPQCEIMS/TMP.10/trj.10.2\n",
      "running comman: obabel -ixyz /Volumes/File_Backup/backup/TMS/TMS-leucine/305/TMPQCEIMS/TMP.10/trj.10.2 -opdb -O/Volumes/File_Backup/backup/TMS/TMS-leucine/305/TMPQCEIMS/TMP.10/trj.10.2.pdb\n",
      "running comman: sed -i '' 's/SI/Si/g' /Volumes/File_Backup/backup/TMS/TMS-leucine/305/TMPQCEIMS/TMP.10/trj.10.4\n",
      "running comman: obabel -ixyz /Volumes/File_Backup/backup/TMS/TMS-leucine/305/TMPQCEIMS/TMP.10/trj.10.4 -opdb -O/Volumes/File_Backup/backup/TMS/TMS-leucine/305/TMPQCEIMS/TMP.10/trj.10.4.pdb\n",
      "running comman: sed -i '' 's/SI/Si/g' /Volumes/File_Backup/backup/TMS/TMS-leucine/305/TMPQCEIMS/TMP.10/trj.10.3\n",
      "running comman: obabel -ixyz /Volumes/File_Backup/backup/TMS/TMS-leucine/305/TMPQCEIMS/TMP.10/trj.10.3 -opdb -O/Volumes/File_Backup/backup/TMS/TMS-leucine/305/TMPQCEIMS/TMP.10/trj.10.3.pdb\n"
     ]
    },
    {
     "data": {
      "application/vnd.jupyter.widget-view+json": {
       "model_id": "b286f9980a8541d9b526d5d70ee1790b",
       "version_major": 2,
       "version_minor": 0
      },
      "text/plain": [
       "VBox(children=(NGLWidget(max_frame=426), NGLWidget(max_frame=232), NGLWidget(max_frame=249), NGLWidget(max_fra…"
      ]
     },
     "metadata": {},
     "output_type": "display_data"
    }
   ],
   "source": [
    "\n",
    "getmol.viewtrj()\n",
    "VBox(getmol.view)"
   ]
  },
  {
   "cell_type": "code",
   "execution_count": 56,
   "id": "united-handbook",
   "metadata": {},
   "outputs": [
    {
     "name": "stdout",
     "output_type": "stream",
     "text": [
      "There are 34 backbone atoms in the analysis\n",
      "(102, 102)\n"
     ]
    },
    {
     "data": {
      "application/vnd.jupyter.widget-view+json": {
       "model_id": "afa3feaa482740789dece2cc6dd17faf",
       "version_major": 2,
       "version_minor": 0
      },
      "text/plain": [
       "NGLWidget(max_frame=371)"
      ]
     },
     "metadata": {},
     "output_type": "display_data"
    },
    {
     "data": {
      "image/png": "[encoded data removed]",
      "text/plain": [
       "<Figure size 432x288 with 1 Axes>"
      ]
     },
     "metadata": {
      "needs_background": "light"
     },
     "output_type": "display_data"
    }
   ],
   "source": [
    "import MDAnalysis as mda\n",
    "from MDAnalysis.analysis import pca, align\n",
    "import numpy as np\n",
    "import pandas as pd\n",
    "import matplotlib.pyplot as plt\n",
    "\n",
    "import nglview as nv\n",
    "import warnings\n",
    "# suppress some MDAnalysis warnings about writing PDB files\n",
    "warnings.filterwarnings('ignore')\n",
    "\n",
    "\n",
    "\n",
    "\n",
    "\n",
    "u = mda.Universe('/Volumes/File_Backup/backup/TMS/TMS-leucine/305/TMPQCEIMS/TMP.494/trj.494.1.pdb')\n",
    "\n",
    "aligner = align.AlignTraj(u, u,\n",
    "                          in_memory=True).run()\n",
    "\n",
    "pc = pca.PCA(u,\n",
    "             align=False, mean=None,\n",
    "             n_components=None).run()\n",
    "\n",
    "\n",
    "backbone = u.select_atoms(' index 0:34')\n",
    "n_bb = len(backbone)\n",
    "print('There are {} backbone atoms in the analysis'.format(n_bb))\n",
    "print(pc.p_components.shape)\n",
    "\n",
    "plt.plot(pc.cumulated_variance[:10])\n",
    "plt.xlabel('Principal component')\n",
    "plt.ylabel('Cumulative variance');\n",
    "\n",
    "transformed = pc.transform(u, n_components=5)\n",
    "df = pd.DataFrame(transformed,\n",
    "                  columns=['PC{}'.format(i+1) for i in range(5)])\n",
    "df['Time (ps)'] = df.index * u.trajectory.dt\n",
    "\n",
    "import seaborn as sns\n",
    "\n",
    "#g = sns.PairGrid(df, hue='Time (ps)', palette=sns.color_palette('Oranges_d',n_colors=len(df)))\n",
    "#g.map(plt.scatter, marker='.')\n",
    "\n",
    "pc1 = pc.p_components[:, 0]\n",
    "trans1 = transformed[:, 0]\n",
    "projected = np.outer(trans1, pc1) + pc.mean\n",
    "coordinates = projected.reshape(len(trans1), -1, 3)\n",
    "proj1 = mda.Merge(backbone)\n",
    "proj1.load_new(coordinates, order=\"fac\")\n",
    "view = nv.show_mdanalysis(proj1.atoms)\n",
    "view"
   ]
  },
  {
   "cell_type": "code",
   "execution_count": 16,
   "id": "fifty-spelling",
   "metadata": {},
   "outputs": [
    {
     "data": {
      "application/vnd.jupyter.widget-view+json": {
       "model_id": "a3a425467ce6463d8417e071ad5cf7fa",
       "version_major": 2,
       "version_minor": 0
      },
      "text/plain": [
       "IntProgress(value=0, description='Rendering ...', max=557)"
      ]
     },
     "metadata": {},
     "output_type": "display_data"
    }
   ],
   "source": [
    "from nglview.contrib.movie import MovieMaker\n",
    "movie = MovieMaker(view, output='pc1.gif', in_memory=True)\n",
    "movie.make()"
   ]
  },
  {
   "cell_type": "code",
   "execution_count": null,
   "id": "pending-taxation",
   "metadata": {},
   "outputs": [],
   "source": []
  }
 ],
 "metadata": {
  "kernelspec": {
   "display_name": "Python 3",
   "language": "python",
   "name": "python3"
  },
  "language_info": {
   "codemirror_mode": {
    "name": "ipython",
    "version": 3
   },
   "file_extension": ".py",
   "mimetype": "text/x-python",
   "name": "python",
   "nbconvert_exporter": "python",
   "pygments_lexer": "ipython3",
   "version": "3.7.9"
  }
 },
 "nbformat": 4,
 "nbformat_minor": 5
}
